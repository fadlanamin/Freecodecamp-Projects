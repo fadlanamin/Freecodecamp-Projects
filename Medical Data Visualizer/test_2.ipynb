{
 "cells": [
  {
   "cell_type": "code",
   "execution_count": 14,
   "metadata": {},
   "outputs": [],
   "source": [
    "import pandas as pd\n",
    "import seaborn as sns\n",
    "import matplotlib.pyplot as plt\n",
    "import numpy as np\n",
    "\n",
    "# Import data\n",
    "df = pd.read_csv('medical_examination.csv')\n",
    "\n",
    "# Add 'overweight' column\n",
    "df['overweight'] = df['weight'] / ((df['height'] /100) ** 2 )\n",
    "df['overweight'] = np.where( df['weight'] / ((df['height'] /100) ** 2 ) > 25, 1, 0)\n",
    "\n",
    "# Normalize data by making 0 always good and 1 always bad. If the value of 'cholesterol' or 'gluc' is 1, make the value 0. If the value is more than 1, make the value 1.\n",
    "df['cholesterol'] = np.where( df['cholesterol'] == 1, 0, 1)\n",
    "df['gluc'] = np.where( df['gluc'] == 1, 0, 1)"
   ]
  },
  {
   "cell_type": "code",
   "execution_count": null,
   "metadata": {},
   "outputs": [],
   "source": [
    "\n",
    "drop_data = df_heat[ (df_heat['weight'] >= df_heat['weight'].quantile(0.975))  #5 weight is more than the 97.5th percentile\n",
    "| (df_heat['weight'] <= df_heat['weight'].quantile(0.025)) #4 weight is less than the 2.5th percentile\n",
    "| (df_heat['height'] >= df_heat['height'].quantile(0.975)) #3 height is more than the 97.5th percentile\n",
    "| (df_heat['height'] <= df_heat['height'].quantile(0.025)) #2 height is less than the 2.5th percentile\n",
    "| (df_heat['ap_lo'] >= df_heat['ap_hi'])].index #1 diastolic pressure is higher than systolic ap_lo > ap_hi\n",
    "\n",
    "df_heat.drop(drop_data, inplace=True)\n",
    "df_heat"
   ]
  },
  {
   "cell_type": "code",
   "execution_count": null,
   "metadata": {},
   "outputs": [],
   "source": [
    "df"
   ]
  },
  {
   "cell_type": "code",
   "execution_count": null,
   "metadata": {},
   "outputs": [],
   "source": [
    "df_heat_2 = df[ (df['weight'] <= df['weight'].quantile(0.975))  #5 weight is more than the 97.5th percentile\n",
    "        & (df['weight'] >= df['weight'].quantile(0.025)) #4 weight is less than the 2.5th percentile\n",
    "        & (df['height'] <= df['height'].quantile(0.975)) #3 height is more than the 97.5th percentile\n",
    "        & (df['height'] >= df['height'].quantile(0.025)) #2 height is less than the 2.5th percentile\n",
    "        & (df['ap_lo'] <= df['ap_hi'])] #1 diastolic pressure is higher than systolic ap_lo > ap_hi\n",
    "df_heat_2"
   ]
  },
  {
   "cell_type": "code",
   "execution_count": null,
   "metadata": {},
   "outputs": [],
   "source": [
    "df_heat = df[ (df['weight'] <= df['weight'].quantile(0.975))  #5 weight is more than the 97.5th percentile\n",
    "        & (df['weight'] >= df['weight'].quantile(0.025)) #4 weight is less than the 2.5th percentile\n",
    "        & (df['height'] <= df['height'].quantile(0.975)) #3 height is more than the 97.5th percentile\n",
    "        & (df['height'] >= df['height'].quantile(0.025)) #2 height is less than the 2.5th percentile\n",
    "        & (df['ap_lo'] <= df['ap_hi'])] #1 diastolic pressure is higher than systolic ap_lo > ap_hi\n",
    "    \n",
    "# Calculate the correlation matrix\n",
    "corr = df_heat.corr()\n",
    "corr"
   ]
  },
  {
   "cell_type": "code",
   "execution_count": null,
   "metadata": {},
   "outputs": [],
   "source": [
    "import pandas as pd\n",
    "import seaborn as sns\n",
    "import matplotlib.pyplot as plt\n",
    "import numpy as np\n",
    "\n",
    "# Import data\n",
    "df = pd.read_csv('medical_examination.csv')\n",
    "\n",
    "# Add 'overweight' column\n",
    "df['overweight'] = df['weight'] / ((df['height'] /100) ** 2 )\n",
    "df['overweight'] = np.where( df['weight'] / ((df['height'] /100) ** 2 ) > 25, 1, 0)\n",
    "\n",
    "# Normalize data by making 0 always good and 1 always bad. If the value of 'cholesterol' or 'gluc' is 1, make the value 0. If the value is more than 1, make the value 1.\n",
    "df['cholesterol'] = np.where( df['cholesterol'] == 1, 0, 1)\n",
    "df['gluc'] = np.where( df['gluc'] == 1, 0, 1)\n",
    "\n",
    "\n",
    "# Draw Categorical Plot\n",
    "def draw_cat_plot():\n",
    "    # Create DataFrame for cat plot using `pd.melt` using just the values from 'cholesterol', 'gluc', 'smoke', 'alco', 'active', and 'overweight'.\n",
    "    df_cat = pd.melt(df, value_vars=['cholesterol','gluc', 'smoke', 'alco', 'active', 'overweight'])\n",
    "\n",
    "    # Group and reformat the data to split it by 'cardio'. Show the counts of each feature. You will have to rename one of the columns for the catplot to work correctly.\n",
    "    df_cat = pd.melt(df, id_vars=['cardio'], value_vars=['cholesterol','gluc', 'smoke', 'alco', 'active', 'overweight'])\n",
    "    df_cat = pd.melt(df, id_vars=['cardio'], value_vars=['cholesterol','gluc', 'smoke', 'alco', 'active', 'overweight']).value_counts().reset_index()\n",
    "    df_cat['value'] = df_cat['value'].astype(str) #To avoid errors on replit, Needs to change to strings, otherwise it'll results on error\n",
    "    df_cat.rename(columns={'count': 'total'}, inplace=True)\n",
    "    df_cat.sort_values(by='variable', inplace=True)\n",
    "\n",
    "    # Draw the catplot with 'sns.catplot()'\n",
    "    cat_plot = sns.catplot( data=df_cat, x='variable', y='total', kind='bar', col='cardio' , hue='value' , palette='Set1' )\n",
    "    cat_plot.set_axis_labels('variable', 'total')\n",
    "\n",
    "    # Get the figure for the output\n",
    "    fig = cat_plot.figure\n",
    "\n",
    "    # Do not modify the next two lines\n",
    "    fig.savefig('catplot.png')\n",
    "\n",
    "    return fig\n",
    "\n",
    "# Draw Heat Map\n",
    "def draw_heat_map():\n",
    "    # Clean the data\n",
    "    df_heat = df[ (df['weight'] <= df['weight'].quantile(0.975))  #5 weight is more than the 97.5th percentile\n",
    "        & (df['weight'] >= df['weight'].quantile(0.025)) #4 weight is less than the 2.5th percentile\n",
    "        & (df['height'] <= df['height'].quantile(0.975)) #3 height is more than the 97.5th percentile\n",
    "        & (df['height'] >= df['height'].quantile(0.025)) #2 height is less than the 2.5th percentile\n",
    "        & (df['ap_lo'] <= df['ap_hi'])] #1 diastolic pressure is higher than systolic ap_lo > ap_hi\n",
    "    \n",
    "    # Calculate the correlation matrix\n",
    "    corr = df_heat.corr()\n",
    "\n",
    "    # Generate a mask for the upper triangle\n",
    "    mask = np.triu(np.ones_like(corr))\n",
    "\n",
    "    # Set up the matplotlib figure\n",
    "    fig, ax = plt.subplots()\n",
    "\n",
    "    # Draw the heatmap with 'sns.heatmap()'\n",
    "    heatmap_fig = sns.heatmap(corr, annot=True, square=True, center=0, annot_kws={'fontsize':7 }, linewidths=0.5, mask=mask, fmt='.1f')\n",
    "    fig = heatmap_fig.figure\n",
    "\n",
    "    # Do not modify the next two lines\n",
    "    fig.savefig('heatmap.png')\n",
    "    return fig\n"
   ]
  },
  {
   "cell_type": "code",
   "execution_count": null,
   "metadata": {},
   "outputs": [],
   "source": [
    "draw_heat_map()"
   ]
  },
  {
   "cell_type": "code",
   "execution_count": 15,
   "metadata": {},
   "outputs": [
    {
     "data": {
      "text/plain": [
       "[[1.0, 0.0, 0.0, 0.0, 0.0, 0.0, 0.0, 0.0, 0.0, -0.0, -0.0, 0.0, 0.0, -0.0],\n",
       " [0.0, 1.0, -0.0, -0.1, 0.1, 0.0, 0.2, 0.1, 0.1, -0.0, -0.0, -0.0, 0.2, 0.1],\n",
       " [0.0, -0.0, 1.0, 0.5, 0.1, 0.0, 0.1, -0.0, -0.0, 0.3, 0.2, 0.0, 0.0, -0.1],\n",
       " [0.0, -0.1, 0.5, 1.0, 0.3, 0.0, 0.0, -0.1, -0.0, 0.2, 0.1, -0.0, -0.0, -0.1],\n",
       " [0.0, 0.1, 0.1, 0.3, 1.0, 0.0, 0.2, 0.1, 0.1, 0.1, 0.1, -0.0, 0.2, 0.7],\n",
       " [0.0, 0.0, 0.0, 0.0, 0.0, 1.0, 0.1, 0.0, 0.0, -0.0, 0.0, -0.0, 0.1, 0.0],\n",
       " [0.0, 0.2, 0.1, 0.0, 0.2, 0.1, 1.0, 0.2, 0.1, 0.0, 0.0, 0.0, 0.3, 0.2],\n",
       " [0.0, 0.1, -0.0, -0.1, 0.1, 0.0, 0.2, 1.0, 0.4, 0.0, 0.0, 0.0, 0.2, 0.1],\n",
       " [0.0, 0.1, -0.0, -0.0, 0.1, 0.0, 0.1, 0.4, 1.0, -0.0, 0.0, -0.0, 0.1, 0.1],\n",
       " [-0.0, -0.0, 0.3, 0.2, 0.1, -0.0, 0.0, 0.0, -0.0, 1.0, 0.3, 0.0, -0.0, -0.0],\n",
       " [-0.0, -0.0, 0.2, 0.1, 0.1, 0.0, 0.0, 0.0, 0.0, 0.3, 1.0, 0.0, -0.0, 0.0],\n",
       " [0.0, -0.0, 0.0, -0.0, -0.0, -0.0, 0.0, 0.0, -0.0, 0.0, 0.0, 1.0, -0.0, -0.0],\n",
       " [0.0, 0.2, 0.0, -0.0, 0.2, 0.1, 0.3, 0.2, 0.1, -0.0, -0.0, -0.0, 1.0, 0.1],\n",
       " [-0.0, 0.1, -0.1, -0.1, 0.7, 0.0, 0.2, 0.1, 0.1, -0.0, 0.0, -0.0, 0.1, 1.0]]"
      ]
     },
     "execution_count": 15,
     "metadata": {},
     "output_type": "execute_result"
    }
   ],
   "source": [
    "df_heat = df[ (df['weight'] <= df['weight'].quantile(0.975))  #5 weight is more than the 97.5th percentile\n",
    "        & (df['weight'] >= df['weight'].quantile(0.025)) #4 weight is less than the 2.5th percentile\n",
    "        & (df['height'] <= df['height'].quantile(0.975)) #3 height is more than the 97.5th percentile\n",
    "        & (df['height'] >= df['height'].quantile(0.025)) #2 height is less than the 2.5th percentile\n",
    "        & (df['ap_lo'] <= df['ap_hi'])] #1 diastolic pressure is higher than systolic ap_lo > ap_hi\n",
    "\n",
    "corr = df_heat.corr().round(1).values.tolist()\n",
    "corr\n"
   ]
  },
  {
   "cell_type": "code",
   "execution_count": 16,
   "metadata": {},
   "outputs": [],
   "source": [
    "expected = ['0.0', '0.0', '-0.0', '0.0', '-0.1', '0.5', '0.0', '0.1', '0.1', '0.3', '0.0', '0.0', '0.0', '0.0', '0.0', '0.0', '0.2', '0.1', '0.0', '0.2', '0.1', '0.0', '0.1', '-0.0', '-0.1', '0.1', '0.0', '0.2', '0.0', '0.1', '-0.0', '-0.0', '0.1', '0.0', '0.1', '0.4', '-0.0', '-0.0', '0.3', '0.2', '0.1', '-0.0', '0.0', '0.0', '-0.0', '-0.0', '-0.0', '0.2', '0.1', '0.1', '0.0', '0.0', '0.0', '0.0', '0.3', '0.0', '-0.0', '0.0', '-0.0', '-0.0', '-0.0', '0.0', '0.0', '-0.0', '0.0', '0.0', '0.0', '0.2', '0.0', '-0.0', '0.2', '0.1', '0.3', '0.2', '0.1', '-0.0', '-0.0', '-0.0', '-0.0', '0.1', '-0.1', '-0.1', '0.7', '0.0', '0.2', '0.1', '0.1', '-0.0', '0.0', '-0.0', '0.1']"
   ]
  },
  {
   "cell_type": "code",
   "execution_count": 17,
   "metadata": {},
   "outputs": [
    {
     "ename": "TypeError",
     "evalue": "unsupported operand type(s) for -: 'list' and 'list'",
     "output_type": "error",
     "traceback": [
      "\u001b[1;31m---------------------------------------------------------------------------\u001b[0m",
      "\u001b[1;31mTypeError\u001b[0m                                 Traceback (most recent call last)",
      "\u001b[1;32mc:\\Users\\Ahmad Fadlan Amin\\Documents\\Data Analysis\\Freecodecamp\\Medical Data Visualizer\\test_2.ipynb Cell 10\u001b[0m line \u001b[0;36m1\n\u001b[1;32m----> <a href='vscode-notebook-cell:/c%3A/Users/Ahmad%20Fadlan%20Amin/Documents/Data%20Analysis/Freecodecamp/Medical%20Data%20Visualizer/test_2.ipynb#X12sZmlsZQ%3D%3D?line=0'>1</a>\u001b[0m corr \u001b[39m-\u001b[39;49m expected\n",
      "\u001b[1;31mTypeError\u001b[0m: unsupported operand type(s) for -: 'list' and 'list'"
     ]
    }
   ],
   "source": [
    "corr - expected"
   ]
  }
 ],
 "metadata": {
  "kernelspec": {
   "display_name": "Python 3",
   "language": "python",
   "name": "python3"
  },
  "language_info": {
   "codemirror_mode": {
    "name": "ipython",
    "version": 3
   },
   "file_extension": ".py",
   "mimetype": "text/x-python",
   "name": "python",
   "nbconvert_exporter": "python",
   "pygments_lexer": "ipython3",
   "version": "3.11.3"
  },
  "orig_nbformat": 4
 },
 "nbformat": 4,
 "nbformat_minor": 2
}
